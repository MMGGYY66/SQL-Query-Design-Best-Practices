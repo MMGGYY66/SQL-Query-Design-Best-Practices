{
    "metadata": {
        "kernelspec": {
            "name": "SQL",
            "display_name": "SQL",
            "language": "sql"
        },
        "language_info": {
            "name": "sql",
            "version": ""
        }
    },
    "nbformat_minor": 2,
    "nbformat": 4,
    "cells": [
        {
            "cell_type": "markdown",
            "source": [
                "# Wide World Importers – Customer Analytics\n",
                "\n",
                "In this notebook, we have a series of SQL statements that we use to do some basic analysis on our customers.\n",
                "\n",
                " Our plan is to learn the following things about our customers: \n",
                "\n",
                "- Total customers \n",
                "- Top level customer sales \n",
                "- Total sales in January 2015"
            ],
            "metadata": {
                "language": "sql",
                "azdata_cell_guid": "188815e9-027a-4f6b-977d-baa7583b6e24"
            },
            "attachments": {}
        },
        {
            "cell_type": "code",
            "source": [
                "SELECT COUNT(*) FROM Dimension.Customer;"
            ],
            "metadata": {
                "azdata_cell_guid": "21b30e2e-7eeb-4d4d-b787-95ebcc39388a",
                "language": "sql"
            },
            "outputs": [],
            "execution_count": null
        },
        {
            "cell_type": "code",
            "source": [
                "SELECT TOP(10) * FROM Dimension.Customer;"
            ],
            "metadata": {
                "language": "sql",
                "azdata_cell_guid": "d572460c-408f-43ba-bef5-bcbdd52566a8"
            },
            "outputs": [],
            "execution_count": null
        },
        {
            "cell_type": "code",
            "source": [
                "SELECT [Bill To Customer], COUNT(*) AS [Customer Count] FROM Dimension.Customer GROUP BY [Bill To Customer]"
            ],
            "metadata": {
                "azdata_cell_guid": "dea50a38-98e5-4c54-8cc8-88d6b6732b0e",
                "language": "sql"
            },
            "outputs": [],
            "execution_count": null
        },
        {
            "cell_type": "code",
            "source": [
                "SELECT customer.[Bill To Customer]\r\n",
                ", COUNT(distinct customer.[Customer Key]) AS [Customer Count]\r\n",
                ", SUM (orders.[Total Excluding Tax]) AS [Total Pretax Sales] \r\n",
                "FROM Dimension.Customer customer INNER JOIN Fact.[Order] orders on customer.[Customer Key] = orders.[Customer Key] \r\n",
                "GROUP BY [Bill To Customer]"
            ],
            "metadata": {
                "language": "sql",
                "azdata_cell_guid": "ce66a8ed-4d40-4184-9d81-550ac514b11a"
            },
            "outputs": [],
            "execution_count": null
        },
        {
            "cell_type": "code",
            "source": [
                "SELECT [Order Date Key]\r\n",
                ", SUM ([Total Excluding Tax]) As [Total Pretax Sales] \r\n",
                "FROM Fact.[Order] \r\n",
                "WHERE [Order Date Key] between '1/1/2015' and '1/31/2015'\r\n",
                "GROUP BY [Order Date Key]"
            ],
            "metadata": {
                "azdata_cell_guid": "944c4a10-cf40-4e06-a9e5-4bfa0aef665d",
                "language": "sql"
            },
            "outputs": [
                {
                    "output_type": "display_data",
                    "data": {
                        "text/html": "(27 rows affected)"
                    },
                    "metadata": {}
                },
                {
                    "output_type": "display_data",
                    "data": {
                        "text/html": "Total execution time: 00:00:00.129"
                    },
                    "metadata": {}
                },
                {
                    "output_type": "execute_result",
                    "metadata": {
                        "azdata_chartOptions": {
                            "type": "bar",
                            "dataDirection": "vertical",
                            "columnsAsLabels": true,
                            "labelFirstColumn": false,
                            "legendPosition": "top"
                        }
                    },
                    "execution_count": 1,
                    "data": {
                        "application/vnd.dataresource+json": {
                            "schema": {
                                "fields": [
                                    {
                                        "name": "Order Date Key"
                                    },
                                    {
                                        "name": "Total Pretax Sales"
                                    }
                                ]
                            },
                            "data": [
                                {
                                    "0": "2015-01-19",
                                    "1": "286488.75"
                                },
                                {
                                    "0": "2015-01-17",
                                    "1": "38344.90"
                                },
                                {
                                    "0": "2015-01-24",
                                    "1": "95161.40"
                                },
                                {
                                    "0": "2015-01-23",
                                    "1": "108285.10"
                                },
                                {
                                    "0": "2015-01-30",
                                    "1": "164262.80"
                                },
                                {
                                    "0": "2015-01-12",
                                    "1": "125365.80"
                                },
                                {
                                    "0": "2015-01-27",
                                    "1": "311953.40"
                                },
                                {
                                    "0": "2015-01-09",
                                    "1": "142852.35"
                                },
                                {
                                    "0": "2015-01-02",
                                    "1": "135897.70"
                                },
                                {
                                    "0": "2015-01-16",
                                    "1": "105301.85"
                                },
                                {
                                    "0": "2015-01-05",
                                    "1": "241029.45"
                                },
                                {
                                    "0": "2015-01-22",
                                    "1": "176309.35"
                                },
                                {
                                    "0": "2015-01-20",
                                    "1": "115974.25"
                                },
                                {
                                    "0": "2015-01-15",
                                    "1": "113173.65"
                                },
                                {
                                    "0": "2015-01-01",
                                    "1": "236949.75"
                                },
                                {
                                    "0": "2015-01-08",
                                    "1": "179460.30"
                                },
                                {
                                    "0": "2015-01-21",
                                    "1": "312967.30"
                                },
                                {
                                    "0": "2015-01-28",
                                    "1": "205910.65"
                                },
                                {
                                    "0": "2015-01-31",
                                    "1": "128734.00"
                                },
                                {
                                    "0": "2015-01-14",
                                    "1": "296651.20"
                                },
                                {
                                    "0": "2015-01-13",
                                    "1": "200506.55"
                                },
                                {
                                    "0": "2015-01-03",
                                    "1": "49442.75"
                                },
                                {
                                    "0": "2015-01-07",
                                    "1": "136597.95"
                                },
                                {
                                    "0": "2015-01-10",
                                    "1": "53779.95"
                                },
                                {
                                    "0": "2015-01-06",
                                    "1": "149342.30"
                                },
                                {
                                    "0": "2015-01-26",
                                    "1": "241209.00"
                                },
                                {
                                    "0": "2015-01-29",
                                    "1": "204112.80"
                                }
                            ]
                        },
                        "text/html": [
                            "<table>",
                            "<tr><th>Order Date Key</th><th>Total Pretax Sales</th></tr>",
                            "<tr><td>2015-01-19</td><td>286488.75</td></tr>",
                            "<tr><td>2015-01-17</td><td>38344.90</td></tr>",
                            "<tr><td>2015-01-24</td><td>95161.40</td></tr>",
                            "<tr><td>2015-01-23</td><td>108285.10</td></tr>",
                            "<tr><td>2015-01-30</td><td>164262.80</td></tr>",
                            "<tr><td>2015-01-12</td><td>125365.80</td></tr>",
                            "<tr><td>2015-01-27</td><td>311953.40</td></tr>",
                            "<tr><td>2015-01-09</td><td>142852.35</td></tr>",
                            "<tr><td>2015-01-02</td><td>135897.70</td></tr>",
                            "<tr><td>2015-01-16</td><td>105301.85</td></tr>",
                            "<tr><td>2015-01-05</td><td>241029.45</td></tr>",
                            "<tr><td>2015-01-22</td><td>176309.35</td></tr>",
                            "<tr><td>2015-01-20</td><td>115974.25</td></tr>",
                            "<tr><td>2015-01-15</td><td>113173.65</td></tr>",
                            "<tr><td>2015-01-01</td><td>236949.75</td></tr>",
                            "<tr><td>2015-01-08</td><td>179460.30</td></tr>",
                            "<tr><td>2015-01-21</td><td>312967.30</td></tr>",
                            "<tr><td>2015-01-28</td><td>205910.65</td></tr>",
                            "<tr><td>2015-01-31</td><td>128734.00</td></tr>",
                            "<tr><td>2015-01-14</td><td>296651.20</td></tr>",
                            "<tr><td>2015-01-13</td><td>200506.55</td></tr>",
                            "<tr><td>2015-01-03</td><td>49442.75</td></tr>",
                            "<tr><td>2015-01-07</td><td>136597.95</td></tr>",
                            "<tr><td>2015-01-10</td><td>53779.95</td></tr>",
                            "<tr><td>2015-01-06</td><td>149342.30</td></tr>",
                            "<tr><td>2015-01-26</td><td>241209.00</td></tr>",
                            "<tr><td>2015-01-29</td><td>204112.80</td></tr>",
                            "</table>"
                        ]
                    }
                }
            ],
            "execution_count": 1
        },
        {
            "cell_type": "markdown",
            "source": [
                ""
            ],
            "metadata": {
                "azdata_cell_guid": "fcc8f6af-6d68-4b73-94ae-9758b8fe8fbf"
            }
        }
    ]
}